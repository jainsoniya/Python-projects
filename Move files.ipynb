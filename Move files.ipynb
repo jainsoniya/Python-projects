{
 "cells": [
  {
   "cell_type": "markdown",
   "metadata": {},
   "source": [
    "In this notebook, I will move pdf files stored in 2 different folders to another folder based on the name of the file matching with folder name.\n",
    "\n",
    "1. Source folder 1 - Contains 80 pdf files with file name pattern \"XYZ name.pdf\"\n",
    "2. source folder 2- contains 58 pdf files with  file name pattern \"LMN name.pdf\"\n",
    "3. destination folder - contains 150 sub folders with folder name pattern \"1234_Name\" \n"
   ]
  },
  {
   "cell_type": "code",
   "execution_count": null,
   "metadata": {},
   "outputs": [],
   "source": [
    "import os, shutil , re"
   ]
  },
  {
   "cell_type": "code",
   "execution_count": null,
   "metadata": {},
   "outputs": [],
   "source": [
    "# Asign variables for source folders and destination foler\n",
    "source_folders = [\"C:/Temp/source_folder_1\", \"C:/Temp/source_folder_2\"]\n",
    "dest_folders = \"C:/Temp/destination_folder/\"\n",
    "\n",
    "#Assign variable to get the list of sub-folders in destination folder\n",
    "dest_folders_path = os.listdir(dest_folders)\n",
    "   \n",
    "#create dictionary for name of the destination folder and it's respective path    \n",
    "dest_path = dict()\n",
    "for dest_folder in dest_folders_path:\n",
    "    try:\n",
    "        #use regex to match the name pattern striping \"1234_\" and any white spaces\n",
    "        entity_name = re.match(\"[\\d]*_?(.*)\", dest_folder).group(1).lower().strip() \n",
    "        #get path of each sub-destination folder\n",
    "        dest_path[entity_name] = os.path.join(dest_folders, dest_folder) \n",
    "    except:\n",
    "        print(dest_folder)\n",
    "        \n",
    "#print dest_path dictionary        \n",
    "for entity_name, path in dest_path.items():\n",
    "    print(\"{} -> {}\".format(entity_name, path))    "
   ]
  },
  {
   "cell_type": "code",
   "execution_count": null,
   "metadata": {},
   "outputs": [],
   "source": [
    "#create dictionary for name of the files in source folders and it's respective path\n",
    "source_path = dict()\n",
    "\n",
    "for source_folder in source_folders:\n",
    "    print(source_folder)\n",
    "    source_file_paths = os.listdir(source_folder) #Assign variable to get the list of sub-folders in each source folder\n",
    "    for source_file_path in source_file_paths:\n",
    "        try:\n",
    "            #use regex to match the name pattern striping \"XYZ\",\"LMN\" and any white spaces\n",
    "            entity_name = re.match(\"(XYZ|LMN) (.*).pdf\", source_file_path, re.IGNORECASE).group(2).lower().strip()\n",
    "            #get path of each file in source folders\n",
    "            source_path[entity_name] = os.path.join(source_folder, source_file_path)\n",
    "        except:\n",
    "            print(source_file_path)\n",
    "\n",
    "#print source_path dictionary                    \n",
    "for entity_name, path in source_path.items():\n",
    "    print(\"{} -> {}\".format(entity_name, path)) "
   ]
  },
  {
   "cell_type": "code",
   "execution_count": null,
   "metadata": {},
   "outputs": [],
   "source": [
    "#move files from source folders to destination folders\n",
    "for entity_name, file_name in source_path.items():\n",
    "    try:\n",
    "        print(\"\\t{} -> {}\".format(file_name, dest_path[entity_name]))\n",
    "        shutil.move(file_name,dest_path[entity_name])\n",
    "    except Exception as e:\n",
    "        print(\"Didn't work for {}\".format(e))"
   ]
  }
 ],
 "metadata": {
  "kernelspec": {
   "display_name": "Python 3",
   "language": "python",
   "name": "python3"
  },
  "language_info": {
   "codemirror_mode": {
    "name": "ipython",
    "version": 3
   },
   "file_extension": ".py",
   "mimetype": "text/x-python",
   "name": "python",
   "nbconvert_exporter": "python",
   "pygments_lexer": "ipython3",
   "version": "3.8.0"
  }
 },
 "nbformat": 4,
 "nbformat_minor": 4
}
